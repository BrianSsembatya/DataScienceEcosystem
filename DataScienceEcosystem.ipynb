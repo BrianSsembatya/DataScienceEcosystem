{
 "cells": [
  {
   "cell_type": "markdown",
   "id": "89f5b3dc",
   "metadata": {},
   "source": [
    "# Data Science Tools and Ecosystem"
   ]
  },
  {
   "cell_type": "markdown",
   "id": "e1c7a959",
   "metadata": {},
   "source": [
    "In this notebook, Data Science Tools and Ecosystem are summarized."
   ]
  },
  {
   "cell_type": "markdown",
   "id": "2f802f6e",
   "metadata": {},
   "source": [
    "#### Objectives:\n",
    "- List popular languages that Data Scientists use\n",
    "- List the commonly Used Libraries by Data Scientists\n",
    "- List Common Data Science Tools\n",
    "- List Examples of evaluating arithmetic expressions in Python\n"
   ]
  },
  {
   "cell_type": "markdown",
   "id": "5bf89b24",
   "metadata": {},
   "source": [
    "Some of the popular languages that Data Scientists use are:\n",
    "1. Python\n",
    "2. R\n",
    "3. Julia\n"
   ]
  },
  {
   "cell_type": "markdown",
   "id": "1ec6b94c",
   "metadata": {},
   "source": [
    "Some of the commonly used libraries used by Data Scientists include:\n",
    "  1. Pandas\n",
    "  2. NumPy\n",
    "  3. SciPy\n",
    "  4. Matplotlib"
   ]
  },
  {
   "cell_type": "markdown",
   "id": "77948f36",
   "metadata": {},
   "source": [
    "|No.|Data Science Tools|\n",
    "|---|---|\n",
    "|1. |Jupyter Notebooks |\n",
    "|2. |RStudio|\n",
    "|3. |Apache Spark|\n",
    "|4. |TensorFlow|"
   ]
  },
  {
   "cell_type": "markdown",
   "id": "4ebb390c",
   "metadata": {},
   "source": [
    "### Below are a few examples of evaluating arithmetic expressions in Python"
   ]
  },
  {
   "cell_type": "code",
   "execution_count": 2,
   "id": "1b081866",
   "metadata": {},
   "outputs": [
    {
     "data": {
      "text/plain": [
       "17"
      ]
     },
     "execution_count": 2,
     "metadata": {},
     "output_type": "execute_result"
    }
   ],
   "source": [
    "#This is a simple arithmetic expression to mutiply then add integers\n",
    "(3*4)+5"
   ]
  },
  {
   "cell_type": "code",
   "execution_count": 3,
   "id": "cc0be7df",
   "metadata": {},
   "outputs": [
    {
     "data": {
      "text/plain": [
       "3.3333333333333335"
      ]
     },
     "execution_count": 3,
     "metadata": {},
     "output_type": "execute_result"
    }
   ],
   "source": [
    "#This will convert 200 minutes to hours by dividing by 60\n",
    "200/60\n",
    "\n"
   ]
  },
  {
   "cell_type": "markdown",
   "id": "202aba4c",
   "metadata": {},
   "source": [
    "## Author\n",
    "Ssembatya Brian"
   ]
  },
  {
   "cell_type": "code",
   "execution_count": null,
   "id": "b47ebd87",
   "metadata": {},
   "outputs": [],
   "source": []
  }
 ],
 "metadata": {
  "kernelspec": {
   "display_name": "Python 3 (ipykernel)",
   "language": "python",
   "name": "python3"
  },
  "language_info": {
   "codemirror_mode": {
    "name": "ipython",
    "version": 3
   },
   "file_extension": ".py",
   "mimetype": "text/x-python",
   "name": "python",
   "nbconvert_exporter": "python",
   "pygments_lexer": "ipython3",
   "version": "3.10.9"
  }
 },
 "nbformat": 4,
 "nbformat_minor": 5
}
